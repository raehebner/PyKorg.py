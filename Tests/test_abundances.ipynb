{
 "cells": [
  {
   "cell_type": "code",
   "execution_count": 1,
   "id": "fb52a539-62e6-49a4-a653-12a14c620619",
   "metadata": {},
   "outputs": [
    {
     "name": "stderr",
     "output_type": "stream",
     "text": [
      "C:\\Users\\User5\\Desktop\\Jupyter Notebook\\PyKorg\\read_statmech_quantities.py:192: RuntimeWarning: divide by zero encountered in log\n",
      "  out[spec] = construct_spline(np.log(Ts),Us / total_g_ns, extrapolate=True)\n"
     ]
    }
   ],
   "source": [
    "import PyKorg"
   ]
  },
  {
   "cell_type": "code",
   "execution_count": 11,
   "id": "8f282bb5-a760-4345-9232-7fa29b8cb26b",
   "metadata": {},
   "outputs": [],
   "source": [
    "def_A_X = PyKorg.abundances.format_A_X(7,5)"
   ]
  },
  {
   "cell_type": "code",
   "execution_count": 12,
   "id": "0511fe21-0631-4c60-831b-e9f53b36ab41",
   "metadata": {
    "scrolled": true
   },
   "outputs": [
    {
     "data": {
      "text/plain": [
       "[12.0,\n",
       " 10.91,\n",
       " 7.96,\n",
       " 8.379999999999999,\n",
       " 9.7,\n",
       " 15.46,\n",
       " 14.83,\n",
       " 13.69,\n",
       " 11.4,\n",
       " 13.06,\n",
       " 13.219999999999999,\n",
       " 12.55,\n",
       " 13.43,\n",
       " 12.51,\n",
       " 12.41,\n",
       " 12.120000000000001,\n",
       " 12.309999999999999,\n",
       " 11.379999999999999,\n",
       " 12.07,\n",
       " 11.3,\n",
       " 10.14,\n",
       " 9.969999999999999,\n",
       " 10.9,\n",
       " 12.620000000000001,\n",
       " 12.42,\n",
       " 14.46,\n",
       " 11.940000000000001,\n",
       " 13.2,\n",
       " 11.18,\n",
       " 11.559999999999999,\n",
       " 10.02,\n",
       " 10.620000000000001,\n",
       " 9.3,\n",
       " 10.34,\n",
       " 9.54,\n",
       " 10.120000000000001,\n",
       " 9.32,\n",
       " 9.83,\n",
       " 9.21,\n",
       " 9.59,\n",
       " 8.47,\n",
       " 8.879999999999999,\n",
       " 2.0,\n",
       " 8.75,\n",
       " 7.78,\n",
       " 8.57,\n",
       " 7.96,\n",
       " 8.71,\n",
       " 7.8,\n",
       " 9.02,\n",
       " 8.01,\n",
       " 9.18,\n",
       " 8.55,\n",
       " 9.22,\n",
       " 8.08,\n",
       " 9.27,\n",
       " 8.11,\n",
       " 8.58,\n",
       " 7.75,\n",
       " 8.42,\n",
       " 2.0,\n",
       " 7.95,\n",
       " 7.52,\n",
       " 8.08,\n",
       " 7.31,\n",
       " 8.1,\n",
       " 7.48,\n",
       " 7.93,\n",
       " 7.11,\n",
       " 7.85,\n",
       " 7.1,\n",
       " 7.85,\n",
       " 6.85,\n",
       " 7.79,\n",
       " 7.26,\n",
       " 8.35,\n",
       " 8.32,\n",
       " 8.61,\n",
       " 7.91,\n",
       " 8.17,\n",
       " 7.92,\n",
       " 8.95,\n",
       " 7.65,\n",
       " 2.0,\n",
       " 2.0,\n",
       " 2.0,\n",
       " 2.0,\n",
       " 2.0,\n",
       " 2.0,\n",
       " 7.03,\n",
       " 2.0,\n",
       " 6.46]"
      ]
     },
     "execution_count": 12,
     "metadata": {},
     "output_type": "execute_result"
    }
   ],
   "source": [
    "def_A_X"
   ]
  },
  {
   "cell_type": "code",
   "execution_count": 13,
   "id": "c7a87b8e-74b1-40e8-8538-09390f20a208",
   "metadata": {},
   "outputs": [
    {
     "data": {
      "text/plain": [
       "7.0"
      ]
     },
     "execution_count": 13,
     "metadata": {},
     "output_type": "execute_result"
    }
   ],
   "source": [
    "PyKorg.abundances.get_metals_H(def_A_X)"
   ]
  },
  {
   "cell_type": "code",
   "execution_count": 14,
   "id": "c418ad33-4926-462e-ac8d-0f1effaaf811",
   "metadata": {},
   "outputs": [
    {
     "data": {
      "text/plain": [
       "5.0"
      ]
     },
     "execution_count": 14,
     "metadata": {},
     "output_type": "execute_result"
    }
   ],
   "source": [
    "PyKorg.abundances.get_alpha_H(def_A_X)"
   ]
  },
  {
   "cell_type": "code",
   "execution_count": null,
   "id": "5d11ab48-8c17-46d1-9fac-83b6cf44798f",
   "metadata": {},
   "outputs": [],
   "source": []
  }
 ],
 "metadata": {
  "kernelspec": {
   "display_name": "Python 3 (ipykernel)",
   "language": "python",
   "name": "python3"
  },
  "language_info": {
   "codemirror_mode": {
    "name": "ipython",
    "version": 3
   },
   "file_extension": ".py",
   "mimetype": "text/x-python",
   "name": "python",
   "nbconvert_exporter": "python",
   "pygments_lexer": "ipython3",
   "version": "3.12.3"
  }
 },
 "nbformat": 4,
 "nbformat_minor": 5
}
