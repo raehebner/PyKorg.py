{
 "cells": [
  {
   "cell_type": "code",
   "execution_count": 1,
   "id": "10df4613-f05c-4523-863f-ce414baf73d5",
   "metadata": {},
   "outputs": [],
   "source": [
    "import PyKorg"
   ]
  },
  {
   "cell_type": "code",
   "execution_count": 2,
   "id": "6e01d2a8-4ab7-4af8-8e9c-1f7e92e4c75a",
   "metadata": {},
   "outputs": [
    {
     "name": "stdout",
     "output_type": "stream",
     "text": [
      "H I\n",
      "H I\n",
      "H I\n",
      "H I\n",
      "H I\n",
      "H II\n",
      "H2 \n",
      "H I\n",
      "H I\n",
      "He II\n",
      "He II\n",
      "CO \n"
     ]
    }
   ],
   "source": [
    "test_list = [\"H I\",\"H 1\",\"H     1\",\"H_1\",\"H.I\",\"H 2\",\"H2\",\"H\",\"01.00\",\"02.01\",\"02.1000\",\"0608\"]\n",
    "for i in test_list:\n",
    "    PyKorg.species.Species(i).show()"
   ]
  },
  {
   "cell_type": "code",
   "execution_count": 3,
   "id": "37e4df9a-c242-45e9-a95a-08ac8bf0e44c",
   "metadata": {},
   "outputs": [
    {
     "data": {
      "text/plain": [
       "[0, 1, 1, 1, 1, 6]"
      ]
     },
     "execution_count": 3,
     "metadata": {},
     "output_type": "execute_result"
    }
   ],
   "source": [
    "test = \"CH4\"\n",
    "PyKorg.species.Formula(test).atoms"
   ]
  },
  {
   "cell_type": "code",
   "execution_count": 4,
   "id": "96ba6c60-560d-4ce2-ab7f-99f8998cecef",
   "metadata": {},
   "outputs": [],
   "source": [
    "form = PyKorg.species.Formula(test)"
   ]
  },
  {
   "cell_type": "code",
   "execution_count": 5,
   "id": "6a9fda03-2c0c-4461-a7b7-f9133d7daa5b",
   "metadata": {},
   "outputs": [
    {
     "data": {
      "text/plain": [
       "[0, 1, 1, 1, 1, 6]"
      ]
     },
     "execution_count": 5,
     "metadata": {},
     "output_type": "execute_result"
    }
   ],
   "source": [
    "form.atoms"
   ]
  },
  {
   "cell_type": "code",
   "execution_count": 6,
   "id": "7b4817b7-1987-4d4a-b5e1-d289c454a665",
   "metadata": {},
   "outputs": [
    {
     "data": {
      "text/plain": [
       "[1, 1, 1, 1, 6]"
      ]
     },
     "execution_count": 6,
     "metadata": {},
     "output_type": "execute_result"
    }
   ],
   "source": [
    "form.get_atoms()"
   ]
  },
  {
   "cell_type": "code",
   "execution_count": 7,
   "id": "45122a62-8b9e-42d7-8b80-ec081b3160ca",
   "metadata": {},
   "outputs": [],
   "source": [
    "#form.get_atom()  # This errors, as it is a molecule"
   ]
  },
  {
   "cell_type": "code",
   "execution_count": 8,
   "id": "67ff2f5e-35f0-4bff-9efb-88c07d4f5458",
   "metadata": {},
   "outputs": [
    {
     "data": {
      "text/plain": [
       "True"
      ]
     },
     "execution_count": 8,
     "metadata": {},
     "output_type": "execute_result"
    }
   ],
   "source": [
    "form.ismolecule()"
   ]
  },
  {
   "cell_type": "code",
   "execution_count": 9,
   "id": "9495d635-6e72-41a3-9360-cd4c092b0d68",
   "metadata": {},
   "outputs": [
    {
     "data": {
      "text/plain": [
       "5"
      ]
     },
     "execution_count": 9,
     "metadata": {},
     "output_type": "execute_result"
    }
   ],
   "source": [
    "form.n_atoms()"
   ]
  },
  {
   "cell_type": "code",
   "execution_count": 10,
   "id": "84f66399-b02e-452b-996e-384b906d2787",
   "metadata": {},
   "outputs": [
    {
     "name": "stdout",
     "output_type": "stream",
     "text": [
      "H4C "
     ]
    }
   ],
   "source": [
    "form.show()"
   ]
  },
  {
   "cell_type": "code",
   "execution_count": 11,
   "id": "05f27af4-8453-44eb-8a21-8aebb9443854",
   "metadata": {},
   "outputs": [
    {
     "data": {
      "text/plain": [
       "2.66383858884e-23"
      ]
     },
     "execution_count": 11,
     "metadata": {},
     "output_type": "execute_result"
    }
   ],
   "source": [
    "form.get_mass()"
   ]
  },
  {
   "cell_type": "code",
   "execution_count": 12,
   "id": "bb6a5800-2f1e-431c-9513-9b2a0ae64d1c",
   "metadata": {},
   "outputs": [
    {
     "data": {
      "text/plain": [
       "PyKorg.species.Formula"
      ]
     },
     "execution_count": 12,
     "metadata": {},
     "output_type": "execute_result"
    }
   ],
   "source": [
    "type(PyKorg.species.Formula(\"CH4\"))"
   ]
  },
  {
   "cell_type": "code",
   "execution_count": 13,
   "id": "54a11bba-6a17-4dcf-a8b3-76a27ec0b78c",
   "metadata": {},
   "outputs": [
    {
     "name": "stdout",
     "output_type": "stream",
     "text": [
      "H4C III\n"
     ]
    }
   ],
   "source": [
    "PyKorg.species.Species(form,2).show()"
   ]
  },
  {
   "cell_type": "code",
   "execution_count": 14,
   "id": "ec4b1fce-5666-40f9-8037-acde1c55ba0b",
   "metadata": {},
   "outputs": [
    {
     "name": "stdout",
     "output_type": "stream",
     "text": [
      "C III\n"
     ]
    }
   ],
   "source": [
    "PyKorg.species.Species(\"C III\").show()"
   ]
  },
  {
   "cell_type": "code",
   "execution_count": 15,
   "id": "9aa57216-8df8-443d-b56e-8bb754ad2100",
   "metadata": {},
   "outputs": [
    {
     "name": "stdout",
     "output_type": "stream",
     "text": [
      "N2O III\n"
     ]
    }
   ],
   "source": [
    "PyKorg.species.Species(\"N2O 3\").show()"
   ]
  },
  {
   "cell_type": "code",
   "execution_count": 16,
   "id": "b32f1aa9-45e1-4293-bc2b-9e1d4ac8b45d",
   "metadata": {},
   "outputs": [
    {
     "data": {
      "text/plain": [
       "-1"
      ]
     },
     "execution_count": 16,
     "metadata": {},
     "output_type": "execute_result"
    }
   ],
   "source": [
    "PyKorg.species.Species(\"C -\").charge"
   ]
  },
  {
   "cell_type": "code",
   "execution_count": 17,
   "id": "6b43efbe-ede6-45f5-9fb0-584698614556",
   "metadata": {},
   "outputs": [
    {
     "data": {
      "text/plain": [
       "2"
      ]
     },
     "execution_count": 17,
     "metadata": {},
     "output_type": "execute_result"
    }
   ],
   "source": [
    "PyKorg.species.Species(\"C III\").charge"
   ]
  },
  {
   "cell_type": "code",
   "execution_count": 18,
   "id": "a2757b35-3069-437d-8854-288c1350263e",
   "metadata": {},
   "outputs": [],
   "source": [
    "spec = PyKorg.species.Species(\"N2O 3\")"
   ]
  },
  {
   "cell_type": "code",
   "execution_count": 19,
   "id": "9a418cbc-9d08-4bb8-b6cc-dfa98321f88a",
   "metadata": {},
   "outputs": [
    {
     "data": {
      "text/plain": [
       "7.309697960399999e-23"
      ]
     },
     "execution_count": 19,
     "metadata": {},
     "output_type": "execute_result"
    }
   ],
   "source": [
    "spec.get_mass()"
   ]
  },
  {
   "cell_type": "code",
   "execution_count": 20,
   "id": "9b6c5882-44cf-4eb0-913a-66ff27511468",
   "metadata": {},
   "outputs": [
    {
     "data": {
      "text/plain": [
       "[7, 7, 8]"
      ]
     },
     "execution_count": 20,
     "metadata": {},
     "output_type": "execute_result"
    }
   ],
   "source": [
    "spec.get_atoms()"
   ]
  },
  {
   "cell_type": "code",
   "execution_count": 21,
   "id": "90e174a2-5928-4baf-8ccb-1ef77f1a69ca",
   "metadata": {},
   "outputs": [
    {
     "data": {
      "text/plain": [
       "3"
      ]
     },
     "execution_count": 21,
     "metadata": {},
     "output_type": "execute_result"
    }
   ],
   "source": [
    "spec.n_atoms()"
   ]
  },
  {
   "cell_type": "code",
   "execution_count": 22,
   "id": "0f84b828-4544-4210-a264-59aa7ac0bd8f",
   "metadata": {},
   "outputs": [
    {
     "data": {
      "text/plain": [
       "True"
      ]
     },
     "execution_count": 22,
     "metadata": {},
     "output_type": "execute_result"
    }
   ],
   "source": [
    "spec.ismolecule()"
   ]
  },
  {
   "cell_type": "code",
   "execution_count": 23,
   "id": "f4bef453-f69b-4eff-a187-9098c4914e83",
   "metadata": {},
   "outputs": [],
   "source": [
    "#spec.get_atom()  # This errors, as it is a molecule"
   ]
  },
  {
   "cell_type": "code",
   "execution_count": 24,
   "id": "ba157b3e-ec0a-410c-9b29-09bd440cfe2c",
   "metadata": {
    "scrolled": true
   },
   "outputs": [
    {
     "data": {
      "text/plain": [
       "[<PyKorg.species.Species at 0x1789011eba0>,\n",
       " <PyKorg.species.Species at 0x1789011df70>,\n",
       " <PyKorg.species.Species at 0x1789011e060>,\n",
       " <PyKorg.species.Species at 0x1789011ed80>,\n",
       " <PyKorg.species.Species at 0x1789011d8b0>,\n",
       " <PyKorg.species.Species at 0x1789011dd90>,\n",
       " <PyKorg.species.Species at 0x1789011eab0>,\n",
       " <PyKorg.species.Species at 0x1789011f950>,\n",
       " <PyKorg.species.Species at 0x1789011fa70>,\n",
       " <PyKorg.species.Species at 0x1789011ff80>,\n",
       " <PyKorg.species.Species at 0x178901480e0>,\n",
       " <PyKorg.species.Species at 0x178901480b0>,\n",
       " <PyKorg.species.Species at 0x17890148140>,\n",
       " <PyKorg.species.Species at 0x17890148230>,\n",
       " <PyKorg.species.Species at 0x178901482f0>,\n",
       " <PyKorg.species.Species at 0x17890148380>,\n",
       " <PyKorg.species.Species at 0x17890148410>,\n",
       " <PyKorg.species.Species at 0x178901484a0>,\n",
       " <PyKorg.species.Species at 0x17890148530>,\n",
       " <PyKorg.species.Species at 0x178901485c0>,\n",
       " <PyKorg.species.Species at 0x17890148650>,\n",
       " <PyKorg.species.Species at 0x178901486e0>,\n",
       " <PyKorg.species.Species at 0x17890148770>,\n",
       " <PyKorg.species.Species at 0x17890148800>,\n",
       " <PyKorg.species.Species at 0x17890148890>,\n",
       " <PyKorg.species.Species at 0x17890148920>,\n",
       " <PyKorg.species.Species at 0x178901489b0>,\n",
       " <PyKorg.species.Species at 0x17890148a40>,\n",
       " <PyKorg.species.Species at 0x17890148ad0>,\n",
       " <PyKorg.species.Species at 0x17890148b60>,\n",
       " <PyKorg.species.Species at 0x17890148bf0>,\n",
       " <PyKorg.species.Species at 0x17890148c80>,\n",
       " <PyKorg.species.Species at 0x17890148d10>,\n",
       " <PyKorg.species.Species at 0x17890148da0>,\n",
       " <PyKorg.species.Species at 0x17890148e30>,\n",
       " <PyKorg.species.Species at 0x17890148ec0>,\n",
       " <PyKorg.species.Species at 0x17890148f50>,\n",
       " <PyKorg.species.Species at 0x17890148fe0>,\n",
       " <PyKorg.species.Species at 0x17890149070>,\n",
       " <PyKorg.species.Species at 0x17890149100>,\n",
       " <PyKorg.species.Species at 0x17890149190>,\n",
       " <PyKorg.species.Species at 0x17890149220>,\n",
       " <PyKorg.species.Species at 0x178901492b0>,\n",
       " <PyKorg.species.Species at 0x17890149340>,\n",
       " <PyKorg.species.Species at 0x178901493d0>,\n",
       " <PyKorg.species.Species at 0x17890149460>,\n",
       " <PyKorg.species.Species at 0x178901494f0>,\n",
       " <PyKorg.species.Species at 0x17890149580>,\n",
       " <PyKorg.species.Species at 0x17890149610>,\n",
       " <PyKorg.species.Species at 0x178901496a0>,\n",
       " <PyKorg.species.Species at 0x17890149730>,\n",
       " <PyKorg.species.Species at 0x178901497c0>,\n",
       " <PyKorg.species.Species at 0x17890149850>,\n",
       " <PyKorg.species.Species at 0x178901498e0>,\n",
       " <PyKorg.species.Species at 0x17890149970>,\n",
       " <PyKorg.species.Species at 0x17890149a00>,\n",
       " <PyKorg.species.Species at 0x17890149a90>,\n",
       " <PyKorg.species.Species at 0x17890149b20>,\n",
       " <PyKorg.species.Species at 0x17890149bb0>,\n",
       " <PyKorg.species.Species at 0x17890149c40>,\n",
       " <PyKorg.species.Species at 0x17890149cd0>,\n",
       " <PyKorg.species.Species at 0x17890149d60>,\n",
       " <PyKorg.species.Species at 0x17890149df0>,\n",
       " <PyKorg.species.Species at 0x17890149e80>,\n",
       " <PyKorg.species.Species at 0x17890149f10>,\n",
       " <PyKorg.species.Species at 0x17890149fa0>,\n",
       " <PyKorg.species.Species at 0x1789014a030>,\n",
       " <PyKorg.species.Species at 0x1789014a0c0>,\n",
       " <PyKorg.species.Species at 0x1789014a150>,\n",
       " <PyKorg.species.Species at 0x1789014a1e0>,\n",
       " <PyKorg.species.Species at 0x1789014a270>,\n",
       " <PyKorg.species.Species at 0x1789014a300>,\n",
       " <PyKorg.species.Species at 0x1789014a390>,\n",
       " <PyKorg.species.Species at 0x1789014a420>,\n",
       " <PyKorg.species.Species at 0x1789014a4b0>,\n",
       " <PyKorg.species.Species at 0x1789014a540>,\n",
       " <PyKorg.species.Species at 0x1789014a5d0>,\n",
       " <PyKorg.species.Species at 0x1789014a660>,\n",
       " <PyKorg.species.Species at 0x1789014a6f0>,\n",
       " <PyKorg.species.Species at 0x1789014a780>,\n",
       " <PyKorg.species.Species at 0x1789014a810>,\n",
       " <PyKorg.species.Species at 0x1789014a8a0>,\n",
       " <PyKorg.species.Species at 0x1789014a930>,\n",
       " <PyKorg.species.Species at 0x1789014a9c0>,\n",
       " <PyKorg.species.Species at 0x1789014aa50>,\n",
       " <PyKorg.species.Species at 0x1789014aae0>,\n",
       " <PyKorg.species.Species at 0x1789014ab70>,\n",
       " <PyKorg.species.Species at 0x1789014ac00>,\n",
       " <PyKorg.species.Species at 0x1789014ac90>,\n",
       " <PyKorg.species.Species at 0x1789014ad20>,\n",
       " <PyKorg.species.Species at 0x1789014adb0>,\n",
       " <PyKorg.species.Species at 0x1789014ae40>,\n",
       " <PyKorg.species.Species at 0x1789014aed0>,\n",
       " <PyKorg.species.Species at 0x1789014af60>,\n",
       " <PyKorg.species.Species at 0x1789014aff0>,\n",
       " <PyKorg.species.Species at 0x1789014b080>,\n",
       " <PyKorg.species.Species at 0x1789014b110>,\n",
       " <PyKorg.species.Species at 0x1789014b1a0>,\n",
       " <PyKorg.species.Species at 0x1789014b230>,\n",
       " <PyKorg.species.Species at 0x1789014b2c0>,\n",
       " <PyKorg.species.Species at 0x1789014b350>,\n",
       " <PyKorg.species.Species at 0x1789014b3e0>,\n",
       " <PyKorg.species.Species at 0x1789014b470>,\n",
       " <PyKorg.species.Species at 0x1789014b500>,\n",
       " <PyKorg.species.Species at 0x1789014b590>,\n",
       " <PyKorg.species.Species at 0x1789014b620>,\n",
       " <PyKorg.species.Species at 0x1789014b6b0>,\n",
       " <PyKorg.species.Species at 0x1789014b740>,\n",
       " <PyKorg.species.Species at 0x1789014b7d0>,\n",
       " <PyKorg.species.Species at 0x1789014b860>,\n",
       " <PyKorg.species.Species at 0x1789014b8f0>,\n",
       " <PyKorg.species.Species at 0x1789014b980>,\n",
       " <PyKorg.species.Species at 0x1789014ba10>,\n",
       " <PyKorg.species.Species at 0x1789014baa0>,\n",
       " <PyKorg.species.Species at 0x1789014bb30>,\n",
       " <PyKorg.species.Species at 0x178900eb650>,\n",
       " <PyKorg.species.Species at 0x1789014bb90>,\n",
       " <PyKorg.species.Species at 0x1789014bc50>,\n",
       " <PyKorg.species.Species at 0x1789014bce0>,\n",
       " <PyKorg.species.Species at 0x1789014bd70>,\n",
       " <PyKorg.species.Species at 0x1789014be00>,\n",
       " <PyKorg.species.Species at 0x1789014be90>,\n",
       " <PyKorg.species.Species at 0x1789014bf20>,\n",
       " <PyKorg.species.Species at 0x1789014bfb0>,\n",
       " <PyKorg.species.Species at 0x17890150080>,\n",
       " <PyKorg.species.Species at 0x17890150110>,\n",
       " <PyKorg.species.Species at 0x178901501a0>,\n",
       " <PyKorg.species.Species at 0x17890150230>,\n",
       " <PyKorg.species.Species at 0x178901502c0>,\n",
       " <PyKorg.species.Species at 0x17890150350>,\n",
       " <PyKorg.species.Species at 0x178901503e0>,\n",
       " <PyKorg.species.Species at 0x17890150470>,\n",
       " <PyKorg.species.Species at 0x17890150500>,\n",
       " <PyKorg.species.Species at 0x17890150590>,\n",
       " <PyKorg.species.Species at 0x17890150620>,\n",
       " <PyKorg.species.Species at 0x178901506b0>,\n",
       " <PyKorg.species.Species at 0x17890150740>,\n",
       " <PyKorg.species.Species at 0x178901507d0>,\n",
       " <PyKorg.species.Species at 0x17890150860>,\n",
       " <PyKorg.species.Species at 0x178901508f0>,\n",
       " <PyKorg.species.Species at 0x17890150980>,\n",
       " <PyKorg.species.Species at 0x17890150a10>,\n",
       " <PyKorg.species.Species at 0x17890150aa0>,\n",
       " <PyKorg.species.Species at 0x17890150b30>,\n",
       " <PyKorg.species.Species at 0x17890150bc0>,\n",
       " <PyKorg.species.Species at 0x17890150c50>,\n",
       " <PyKorg.species.Species at 0x17890150ce0>,\n",
       " <PyKorg.species.Species at 0x17890150d70>,\n",
       " <PyKorg.species.Species at 0x17890150e00>,\n",
       " <PyKorg.species.Species at 0x17890150e90>,\n",
       " <PyKorg.species.Species at 0x17890150f20>,\n",
       " <PyKorg.species.Species at 0x17890150fb0>,\n",
       " <PyKorg.species.Species at 0x17890151040>,\n",
       " <PyKorg.species.Species at 0x178901510d0>,\n",
       " <PyKorg.species.Species at 0x17890151160>,\n",
       " <PyKorg.species.Species at 0x178901511f0>,\n",
       " <PyKorg.species.Species at 0x17890151280>,\n",
       " <PyKorg.species.Species at 0x17890151310>,\n",
       " <PyKorg.species.Species at 0x178901513a0>,\n",
       " <PyKorg.species.Species at 0x17890151430>,\n",
       " <PyKorg.species.Species at 0x178901514c0>,\n",
       " <PyKorg.species.Species at 0x17890151550>,\n",
       " <PyKorg.species.Species at 0x178901515e0>,\n",
       " <PyKorg.species.Species at 0x17890151670>,\n",
       " <PyKorg.species.Species at 0x17890151700>,\n",
       " <PyKorg.species.Species at 0x17890151790>,\n",
       " <PyKorg.species.Species at 0x17890151820>,\n",
       " <PyKorg.species.Species at 0x178901518b0>,\n",
       " <PyKorg.species.Species at 0x17890151940>,\n",
       " <PyKorg.species.Species at 0x178901519d0>,\n",
       " <PyKorg.species.Species at 0x17890151a60>,\n",
       " <PyKorg.species.Species at 0x17890151af0>,\n",
       " <PyKorg.species.Species at 0x17890151b80>,\n",
       " <PyKorg.species.Species at 0x17890151c10>,\n",
       " <PyKorg.species.Species at 0x17890151ca0>,\n",
       " <PyKorg.species.Species at 0x17890151d30>,\n",
       " <PyKorg.species.Species at 0x17890151dc0>,\n",
       " <PyKorg.species.Species at 0x17890151e50>,\n",
       " <PyKorg.species.Species at 0x17890151ee0>,\n",
       " <PyKorg.species.Species at 0x17890151f70>,\n",
       " <PyKorg.species.Species at 0x17890152000>,\n",
       " <PyKorg.species.Species at 0x17890152090>,\n",
       " <PyKorg.species.Species at 0x17890152120>,\n",
       " <PyKorg.species.Species at 0x178901521b0>,\n",
       " <PyKorg.species.Species at 0x17890152240>,\n",
       " <PyKorg.species.Species at 0x178901522d0>,\n",
       " <PyKorg.species.Species at 0x17890152360>,\n",
       " <PyKorg.species.Species at 0x178901523f0>,\n",
       " <PyKorg.species.Species at 0x17890152480>,\n",
       " <PyKorg.species.Species at 0x17890152510>,\n",
       " <PyKorg.species.Species at 0x178901525a0>,\n",
       " <PyKorg.species.Species at 0x17890152630>,\n",
       " <PyKorg.species.Species at 0x178901526c0>,\n",
       " <PyKorg.species.Species at 0x17890152750>,\n",
       " <PyKorg.species.Species at 0x178901527e0>,\n",
       " <PyKorg.species.Species at 0x17890152870>,\n",
       " <PyKorg.species.Species at 0x17890152900>,\n",
       " <PyKorg.species.Species at 0x17890152990>,\n",
       " <PyKorg.species.Species at 0x17890152a20>,\n",
       " <PyKorg.species.Species at 0x17890152ab0>,\n",
       " <PyKorg.species.Species at 0x17890152b40>,\n",
       " <PyKorg.species.Species at 0x17890152bd0>,\n",
       " <PyKorg.species.Species at 0x17890152c60>,\n",
       " <PyKorg.species.Species at 0x17890152cf0>,\n",
       " <PyKorg.species.Species at 0x17890152d80>,\n",
       " <PyKorg.species.Species at 0x17890152e10>,\n",
       " <PyKorg.species.Species at 0x17890152ea0>,\n",
       " <PyKorg.species.Species at 0x17890152f30>,\n",
       " <PyKorg.species.Species at 0x17890152fc0>,\n",
       " <PyKorg.species.Species at 0x17890153050>,\n",
       " <PyKorg.species.Species at 0x178901530e0>,\n",
       " <PyKorg.species.Species at 0x17890153170>,\n",
       " <PyKorg.species.Species at 0x17890153200>,\n",
       " <PyKorg.species.Species at 0x17890153290>,\n",
       " <PyKorg.species.Species at 0x17890153320>,\n",
       " <PyKorg.species.Species at 0x178901533b0>,\n",
       " <PyKorg.species.Species at 0x17890153440>,\n",
       " <PyKorg.species.Species at 0x178901534d0>,\n",
       " <PyKorg.species.Species at 0x17890153560>,\n",
       " <PyKorg.species.Species at 0x178901535f0>,\n",
       " <PyKorg.species.Species at 0x17890153680>,\n",
       " <PyKorg.species.Species at 0x17890153710>,\n",
       " <PyKorg.species.Species at 0x178901537a0>,\n",
       " <PyKorg.species.Species at 0x17890153830>,\n",
       " <PyKorg.species.Species at 0x178901538c0>,\n",
       " <PyKorg.species.Species at 0x17890153950>,\n",
       " <PyKorg.species.Species at 0x178901539e0>,\n",
       " <PyKorg.species.Species at 0x17890153a70>,\n",
       " <PyKorg.species.Species at 0x17890153b00>,\n",
       " <PyKorg.species.Species at 0x17890153b90>,\n",
       " <PyKorg.species.Species at 0x17890153c20>,\n",
       " <PyKorg.species.Species at 0x17890153cb0>,\n",
       " <PyKorg.species.Species at 0x17890153d40>,\n",
       " <PyKorg.species.Species at 0x17890153dd0>,\n",
       " <PyKorg.species.Species at 0x17890153e60>,\n",
       " <PyKorg.species.Species at 0x17890153ef0>,\n",
       " <PyKorg.species.Species at 0x17890153f80>,\n",
       " <PyKorg.species.Species at 0x17890158050>,\n",
       " <PyKorg.species.Species at 0x178901580e0>,\n",
       " <PyKorg.species.Species at 0x17890158170>,\n",
       " <PyKorg.species.Species at 0x17890158200>,\n",
       " <PyKorg.species.Species at 0x17890158290>,\n",
       " <PyKorg.species.Species at 0x17890158320>,\n",
       " <PyKorg.species.Species at 0x178901583b0>,\n",
       " <PyKorg.species.Species at 0x17890158440>,\n",
       " <PyKorg.species.Species at 0x178901584d0>,\n",
       " <PyKorg.species.Species at 0x17890158560>,\n",
       " <PyKorg.species.Species at 0x178901585f0>,\n",
       " <PyKorg.species.Species at 0x17890158680>,\n",
       " <PyKorg.species.Species at 0x17890158710>,\n",
       " <PyKorg.species.Species at 0x178901587a0>,\n",
       " <PyKorg.species.Species at 0x17890158830>,\n",
       " <PyKorg.species.Species at 0x178901588c0>,\n",
       " <PyKorg.species.Species at 0x17890158950>,\n",
       " <PyKorg.species.Species at 0x178901589e0>,\n",
       " <PyKorg.species.Species at 0x17890158a70>,\n",
       " <PyKorg.species.Species at 0x17890158b00>,\n",
       " <PyKorg.species.Species at 0x17890158b90>,\n",
       " <PyKorg.species.Species at 0x17890158c20>,\n",
       " <PyKorg.species.Species at 0x17890158cb0>,\n",
       " <PyKorg.species.Species at 0x17890158d40>,\n",
       " <PyKorg.species.Species at 0x17890158dd0>,\n",
       " <PyKorg.species.Species at 0x17890158e60>,\n",
       " <PyKorg.species.Species at 0x17890158ef0>,\n",
       " <PyKorg.species.Species at 0x17890158f80>,\n",
       " <PyKorg.species.Species at 0x17890159010>,\n",
       " <PyKorg.species.Species at 0x178901590a0>,\n",
       " <PyKorg.species.Species at 0x17890159130>,\n",
       " <PyKorg.species.Species at 0x178901591c0>,\n",
       " <PyKorg.species.Species at 0x17890159250>,\n",
       " <PyKorg.species.Species at 0x178901592e0>,\n",
       " <PyKorg.species.Species at 0x17890159370>,\n",
       " <PyKorg.species.Species at 0x17890159400>,\n",
       " <PyKorg.species.Species at 0x17890159490>,\n",
       " <PyKorg.species.Species at 0x17890159520>]"
      ]
     },
     "execution_count": 24,
     "metadata": {},
     "output_type": "execute_result"
    }
   ],
   "source": [
    "PyKorg.species.all_atomic_species()"
   ]
  },
  {
   "cell_type": "code",
   "execution_count": 25,
   "id": "17f183bb-5fdb-40c1-84fd-b45f843384d8",
   "metadata": {
    "scrolled": true
   },
   "outputs": [
    {
     "name": "stdout",
     "output_type": "stream",
     "text": [
      "H I\n",
      "H II\n",
      "He I\n",
      "He II\n",
      "He III\n",
      "Li I\n",
      "Li II\n",
      "Li III\n",
      "Be I\n",
      "Be II\n",
      "Be III\n",
      "B I\n",
      "B II\n",
      "B III\n",
      "C I\n",
      "C II\n",
      "C III\n",
      "N I\n",
      "N II\n",
      "N III\n",
      "O I\n",
      "O II\n",
      "O III\n",
      "F I\n",
      "F II\n",
      "F III\n",
      "Ne I\n",
      "Ne II\n",
      "Ne III\n",
      "Na I\n",
      "Na II\n",
      "Na III\n",
      "Mg I\n",
      "Mg II\n",
      "Mg III\n",
      "Al I\n",
      "Al II\n",
      "Al III\n",
      "Si I\n",
      "Si II\n",
      "Si III\n",
      "P I\n",
      "P II\n",
      "P III\n",
      "S I\n",
      "S II\n",
      "S III\n",
      "Cl I\n",
      "Cl II\n",
      "Cl III\n",
      "Ar I\n",
      "Ar II\n",
      "Ar III\n",
      "K I\n",
      "K II\n",
      "K III\n",
      "Ca I\n",
      "Ca II\n",
      "Ca III\n",
      "Sc I\n",
      "Sc II\n",
      "Sc III\n",
      "Ti I\n",
      "Ti II\n",
      "Ti III\n",
      "V I\n",
      "V II\n",
      "V III\n",
      "Cr I\n",
      "Cr II\n",
      "Cr III\n",
      "Mn I\n",
      "Mn II\n",
      "Mn III\n",
      "Fe I\n",
      "Fe II\n",
      "Fe III\n",
      "Co I\n",
      "Co II\n",
      "Co III\n",
      "Ni I\n",
      "Ni II\n",
      "Ni III\n",
      "Cu I\n",
      "Cu II\n",
      "Cu III\n",
      "Zn I\n",
      "Zn II\n",
      "Zn III\n",
      "Ga I\n",
      "Ga II\n",
      "Ga III\n",
      "Ge I\n",
      "Ge II\n",
      "Ge III\n",
      "As I\n",
      "As II\n",
      "As III\n",
      "Se I\n",
      "Se II\n",
      "Se III\n",
      "Br I\n",
      "Br II\n",
      "Br III\n",
      "Kr I\n",
      "Kr II\n",
      "Kr III\n",
      "Rb I\n",
      "Rb II\n",
      "Rb III\n",
      "Sr I\n",
      "Sr II\n",
      "Sr III\n",
      "Y I\n",
      "Y II\n",
      "Y III\n",
      "Zr I\n",
      "Zr II\n",
      "Zr III\n",
      "Nb I\n",
      "Nb II\n",
      "Nb III\n",
      "Mo I\n",
      "Mo II\n",
      "Mo III\n",
      "Tc I\n",
      "Tc II\n",
      "Tc III\n",
      "Ru I\n",
      "Ru II\n",
      "Ru III\n",
      "Rh I\n",
      "Rh II\n",
      "Rh III\n",
      "Pd I\n",
      "Pd II\n",
      "Pd III\n",
      "Ag I\n",
      "Ag II\n",
      "Ag III\n",
      "Cd I\n",
      "Cd II\n",
      "Cd III\n",
      "In I\n",
      "In II\n",
      "In III\n",
      "Sn I\n",
      "Sn II\n",
      "Sn III\n",
      "Sb I\n",
      "Sb II\n",
      "Sb III\n",
      "Te I\n",
      "Te II\n",
      "Te III\n",
      "I I\n",
      "I II\n",
      "I III\n",
      "Xe I\n",
      "Xe II\n",
      "Xe III\n",
      "Cs I\n",
      "Cs II\n",
      "Cs III\n",
      "Ba I\n",
      "Ba II\n",
      "Ba III\n",
      "La I\n",
      "La II\n",
      "La III\n",
      "Ce I\n",
      "Ce II\n",
      "Ce III\n",
      "Pr I\n",
      "Pr II\n",
      "Pr III\n",
      "Nd I\n",
      "Nd II\n",
      "Nd III\n",
      "Pm I\n",
      "Pm II\n",
      "Pm III\n",
      "Sm I\n",
      "Sm II\n",
      "Sm III\n",
      "Eu I\n",
      "Eu II\n",
      "Eu III\n",
      "Gd I\n",
      "Gd II\n",
      "Gd III\n",
      "Tb I\n",
      "Tb II\n",
      "Tb III\n",
      "Dy I\n",
      "Dy II\n",
      "Dy III\n",
      "Ho I\n",
      "Ho II\n",
      "Ho III\n",
      "Er I\n",
      "Er II\n",
      "Er III\n",
      "Tm I\n",
      "Tm II\n",
      "Tm III\n",
      "Yb I\n",
      "Yb II\n",
      "Yb III\n",
      "Lu I\n",
      "Lu II\n",
      "Lu III\n",
      "Hf I\n",
      "Hf II\n",
      "Hf III\n",
      "Ta I\n",
      "Ta II\n",
      "Ta III\n",
      "W I\n",
      "W II\n",
      "W III\n",
      "Re I\n",
      "Re II\n",
      "Re III\n",
      "Os I\n",
      "Os II\n",
      "Os III\n",
      "Ir I\n",
      "Ir II\n",
      "Ir III\n",
      "Pt I\n",
      "Pt II\n",
      "Pt III\n",
      "Au I\n",
      "Au II\n",
      "Au III\n",
      "Hg I\n",
      "Hg II\n",
      "Hg III\n",
      "Tl I\n",
      "Tl II\n",
      "Tl III\n",
      "Pb I\n",
      "Pb II\n",
      "Pb III\n",
      "Bi I\n",
      "Bi II\n",
      "Bi III\n",
      "Po I\n",
      "Po II\n",
      "Po III\n",
      "At I\n",
      "At II\n",
      "At III\n",
      "Rn I\n",
      "Rn II\n",
      "Rn III\n",
      "Fr I\n",
      "Fr II\n",
      "Fr III\n",
      "Ra I\n",
      "Ra II\n",
      "Ra III\n",
      "Ac I\n",
      "Ac II\n",
      "Ac III\n",
      "Th I\n",
      "Th II\n",
      "Th III\n",
      "Pa I\n",
      "Pa II\n",
      "Pa III\n",
      "U I\n",
      "U II\n",
      "U III\n"
     ]
    }
   ],
   "source": [
    "for i in PyKorg.species.all_atomic_species():\n",
    "    i.show()"
   ]
  },
  {
   "cell_type": "code",
   "execution_count": null,
   "id": "6f412cca-5ab6-4b23-9257-2469f2af4000",
   "metadata": {},
   "outputs": [],
   "source": []
  }
 ],
 "metadata": {
  "kernelspec": {
   "display_name": "Python 3 (ipykernel)",
   "language": "python",
   "name": "python3"
  },
  "language_info": {
   "codemirror_mode": {
    "name": "ipython",
    "version": 3
   },
   "file_extension": ".py",
   "mimetype": "text/x-python",
   "name": "python",
   "nbconvert_exporter": "python",
   "pygments_lexer": "ipython3",
   "version": "3.12.3"
  }
 },
 "nbformat": 4,
 "nbformat_minor": 5
}
